{
 "cells": [
  {
   "cell_type": "markdown",
   "metadata": {},
   "source": [
    "# Exercicio\n",
    "> Após a implementação inicial do sistema de gestão escolar, surgiram diversos problemas que afetaram sua usabilidade e confiabilidade.\n",
    "- Relacione 4 problemas que afetaram o sistema de gestão escolar\n",
    "- Apresente as soluções propostas para resolução de cada problema\n",
    "- Apresente os resultados alcançados com a resolução"
   ]
  }
 ],
 "metadata": {
  "kernelspec": {
   "display_name": "Python 3 (ipykernel)",
   "language": "python",
   "name": "python3"
  }
 },
 "nbformat": 4,
 "nbformat_minor": 2
}
