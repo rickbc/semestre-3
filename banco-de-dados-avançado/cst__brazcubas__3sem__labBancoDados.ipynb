{
 "cells": [
  {
   "cell_type": "markdown",
   "metadata": {},
   "source": [
    " BANCO DE DADOS\n",
    "Prof. Caio Gustavo Rodrigues da Cruz\n",
    "\n",
    "## [Chamada Socrative. Sala: CRUZ910](https://b.socrative.com/student)\n",
    "\n",
    "## Aula 01 - Introdução\n",
    "- Rever os slides, repetiu a parte introdutória que fizemos + informações complementares em um segundo slide, demonstrando cardinalidade e afins."
   ]
  },
  {
   "cell_type": "markdown",
   "metadata": {},
   "source": [
    "### Atividade em grupo: Dada a seguinte especificação\n",
    "\n",
    "Na Universidade do Conhecimento Intengral, há uma demanda crescente por um sistema que simplifique o controle academico. Atualmente, a instituição enfrenta desafios devido aos processos manuais, o que resulta me erros e atraso. O novo sistema deve lidar com a gestão de:\n",
    "\n",
    "- alunos (incluiindo nome, CPF, matrícula, curso, histórico escolar, situação de pagamento de mensalidades); \n",
    "- professores (nome, CPF, titulação, disciplinas ministrasas, horarios de disponibilidade), \n",
    "- disciplinas (cadastro das disciplinas ofercecidas em cada período letivo, pre-requisitos, horarios e salas de aula)\n",
    "- turmas (atribuição de professores, horarios e salas de aula, controle do numero de alunos matriculados). \n",
    "\n",
    "Além disso, o sistema deve facilitar a matricula dos alunos, registrar notas e frequencia, gerenciar os pagamentos de mensalidades e permitir a geração de relatorios detalhados para analise institucional. É crucial que o sistema seja seguro, de facil utilização e capaz de se adptar as futuras mudanças e expançoes da universidade\n",
    "\n",
    "1. Identifique as entidades e seus atributos no excel;\n",
    "2. Crie um diagrama entidade relacionamento - DER;\n",
    "3. Crie o modelo lógico. (Conceito join, estudar como vai id pra cada lado, pois, se professor um professor pode ter id em varias turmas, pode dar join nas turmas pra saber quantos alunos o professor X tem)."
   ]
  }
 ],
 "metadata": {
  "language_info": {
   "name": "python"
  }
 },
 "nbformat": 4,
 "nbformat_minor": 2
}
